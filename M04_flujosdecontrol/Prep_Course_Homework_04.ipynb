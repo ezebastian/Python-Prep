{
 "cells": [
  {
   "attachments": {},
   "cell_type": "markdown",
   "metadata": {},
   "source": [
    "## Flujos de Control"
   ]
  },
  {
   "attachments": {},
   "cell_type": "markdown",
   "metadata": {},
   "source": [
    "1) Crear una variable que contenga un elemento del conjunto de números enteros y luego imprimir por pantalla si es mayor o menor a cero"
   ]
  },
  {
   "cell_type": "code",
   "execution_count": 3,
   "metadata": {},
   "outputs": [
    {
     "name": "stdout",
     "output_type": "stream",
     "text": [
      "es menor a cero\n"
     ]
    }
   ],
   "source": [
    "a = -3\n",
    "if a>0:\n",
    "    print('es mayor a cero')\n",
    "elif a<0:\n",
    "    print('es menor a cero')"
   ]
  },
  {
   "attachments": {},
   "cell_type": "markdown",
   "metadata": {},
   "source": [
    "2) Crear dos variables y un condicional que informe si son del mismo tipo de dato"
   ]
  },
  {
   "cell_type": "code",
   "execution_count": 5,
   "metadata": {},
   "outputs": [
    {
     "name": "stdout",
     "output_type": "stream",
     "text": [
      "a y b no son del mismo tipo de dato\n"
     ]
    }
   ],
   "source": [
    "a = 2\n",
    "b = 'Ezequiel'\n",
    "if type(a) == type(b):\n",
    "    print('a y b son del mismo tipo de dato.')\n",
    "else: \n",
    "    print('a y b no son del mismo tipo de dato.')"
   ]
  },
  {
   "attachments": {},
   "cell_type": "markdown",
   "metadata": {},
   "source": [
    "3) Para los valores enteros del 1 al 20, imprimir por pantalla si es par o impar"
   ]
  },
  {
   "cell_type": "code",
   "execution_count": 7,
   "metadata": {},
   "outputs": [
    {
     "name": "stdout",
     "output_type": "stream",
     "text": [
      "1 es impar\n",
      "2 es par\n",
      "3 es impar\n",
      "4 es par\n",
      "5 es impar\n",
      "6 es par\n",
      "7 es impar\n",
      "8 es par\n",
      "9 es impar\n",
      "10 es par\n",
      "11 es impar\n",
      "12 es par\n",
      "13 es impar\n",
      "14 es par\n",
      "15 es impar\n",
      "16 es par\n",
      "17 es impar\n",
      "18 es par\n",
      "19 es impar\n",
      "20 es par\n"
     ]
    }
   ],
   "source": [
    "for i in range (1,21):\n",
    "    if i%2 == 0:\n",
    "        print(i,'es par')\n",
    "    else:\n",
    "        print(i,'es impar')\n"
   ]
  },
  {
   "attachments": {},
   "cell_type": "markdown",
   "metadata": {},
   "source": [
    "4) En un ciclo for mostrar para los valores entre 0 y 5 el resultado de elevarlo a la potencia igual a 3"
   ]
  },
  {
   "cell_type": "code",
   "execution_count": 2,
   "metadata": {},
   "outputs": [
    {
     "name": "stdout",
     "output_type": "stream",
     "text": [
      "0 elevado a la tercera portencia es igual a: 0\n",
      "1 elevado a la tercera portencia es igual a: 1\n",
      "2 elevado a la tercera portencia es igual a: 8\n",
      "3 elevado a la tercera portencia es igual a: 27\n",
      "4 elevado a la tercera portencia es igual a: 64\n",
      "5 elevado a la tercera portencia es igual a: 125\n"
     ]
    }
   ],
   "source": [
    "for i in range(0,6):\n",
    "    n = i**3\n",
    "    print(i,'elevado a la tercera portencia es igual a:', n)"
   ]
  },
  {
   "attachments": {},
   "cell_type": "markdown",
   "metadata": {},
   "source": [
    "5) Crear una variable que contenga un número entero y realizar un ciclo for la misma cantidad de ciclos"
   ]
  },
  {
   "cell_type": "code",
   "execution_count": 3,
   "metadata": {},
   "outputs": [
    {
     "name": "stdout",
     "output_type": "stream",
     "text": [
      "ciclo nro: 1\n",
      "ciclo nro: 2\n",
      "ciclo nro: 3\n",
      "ciclo nro: 4\n",
      "ciclo nro: 5\n"
     ]
    }
   ],
   "source": [
    "a = 5\n",
    "for i in range (1,a+1):\n",
    "    print('ciclo nro:', i)"
   ]
  },
  {
   "attachments": {},
   "cell_type": "markdown",
   "metadata": {},
   "source": [
    "6) Utilizar un ciclo while para realizar el factorial de un número guardado en una variable, sólo si la variable contiene un número entero mayor a 0"
   ]
  },
  {
   "cell_type": "code",
   "execution_count": 1,
   "metadata": {},
   "outputs": [
    {
     "name": "stdout",
     "output_type": "stream",
     "text": [
      "120\n"
     ]
    }
   ],
   "source": [
    "numero = 5\n",
    "factorial = 1\n",
    "if type(numero) == int and numero > 0:\n",
    "\twhile numero >= 1:\n",
    "\t\tfactorial = numero*factorial\n",
    "\t\tnumero -= 1\n",
    "print(factorial)\n",
    "\t"
   ]
  },
  {
   "attachments": {},
   "cell_type": "markdown",
   "metadata": {},
   "source": [
    "7) Crear un ciclo for dentro de un ciclo while"
   ]
  },
  {
   "cell_type": "code",
   "execution_count": 3,
   "metadata": {},
   "outputs": [
    {
     "name": "stdout",
     "output_type": "stream",
     "text": [
      "Ciclo while nro 1\n",
      "ciclo for nro 1\n",
      "Ciclo while nro 2\n",
      "ciclo for nro 1\n",
      "ciclo for nro 2\n",
      "Ciclo while nro 3\n",
      "ciclo for nro 1\n",
      "ciclo for nro 2\n",
      "ciclo for nro 3\n",
      "Ciclo while nro 4\n",
      "ciclo for nro 1\n",
      "ciclo for nro 2\n",
      "ciclo for nro 3\n",
      "ciclo for nro 4\n"
     ]
    }
   ],
   "source": [
    "n = 1\n",
    "while n < 5:\n",
    "\tprint(f'Ciclo while nro {n}')\n",
    "\tfor i in range(1,n+1):\n",
    "\t\tprint(f'ciclo for nro {i}')\n",
    "\tn += 1"
   ]
  },
  {
   "attachments": {},
   "cell_type": "markdown",
   "metadata": {},
   "source": [
    "8) Crear un ciclo while dentro de un ciclo for"
   ]
  },
  {
   "cell_type": "code",
   "execution_count": 4,
   "metadata": {},
   "outputs": [
    {
     "name": "stdout",
     "output_type": "stream",
     "text": [
      "Ciclo for: 0\n",
      "Ciclo while: 0\n",
      "Ciclo while: 1\n",
      "Ciclo while: 2\n",
      "Ciclo for: 1\n",
      "Ciclo while: 0\n",
      "Ciclo while: 1\n",
      "Ciclo while: 2\n"
     ]
    }
   ],
   "source": [
    "n = 2\n",
    "for i in range(n):\n",
    "\tcontador = 0\n",
    "\tlimite = 3\n",
    "\tprint(f'Ciclo for: {i}')\n",
    "\twhile contador < limite:\n",
    "\t\tprint(f'Ciclo while: {contador}')\n",
    "\t\tcontador += 1"
   ]
  },
  {
   "attachments": {},
   "cell_type": "markdown",
   "metadata": {},
   "source": [
    "9) Imprimir los números primos existentes entre 0 y 30"
   ]
  },
  {
   "cell_type": "code",
   "execution_count": 5,
   "metadata": {},
   "outputs": [
    {
     "name": "stdout",
     "output_type": "stream",
     "text": [
      "2\n",
      "3\n",
      "5\n",
      "7\n",
      "11\n",
      "13\n",
      "17\n",
      "19\n",
      "23\n",
      "29\n"
     ]
    }
   ],
   "source": [
    "tope = 30\n",
    "n = 2\n",
    "primo = True\n",
    "while n <= tope:\n",
    "\tfor div in range(2, n):\n",
    "\t\tresto = n%div\n",
    "\t\tif resto == 0:\n",
    "\t\t\tprimo = False\n",
    "\tif primo:\n",
    "\t\tprint(n)\n",
    "\telse:\n",
    "\t\tprimo = True\n",
    "\tn += 1\n"
   ]
  },
  {
   "attachments": {},
   "cell_type": "markdown",
   "metadata": {},
   "source": [
    "10) ¿Se puede mejorar el proceso del punto 9? Utilizar las sentencias break y/ó continue para tal fin"
   ]
  },
  {
   "cell_type": "code",
   "execution_count": 6,
   "metadata": {},
   "outputs": [
    {
     "name": "stdout",
     "output_type": "stream",
     "text": [
      "2\n",
      "3\n",
      "5\n",
      "7\n",
      "11\n",
      "13\n",
      "17\n",
      "19\n",
      "23\n",
      "29\n"
     ]
    }
   ],
   "source": [
    "tope = 30\n",
    "n = 2\n",
    "primo = True\n",
    "while n <= tope:\n",
    "\tfor div in range(2, n):\n",
    "\t\tresto = n%div\n",
    "\t\tif resto == 0:\n",
    "\t\t\tprimo = False\n",
    "\t\t\tbreak\n",
    "\tif primo:\n",
    "\t\tprint(n)\n",
    "\telse:\n",
    "\t\tprimo = True\n",
    "\tn += 1"
   ]
  },
  {
   "attachments": {},
   "cell_type": "markdown",
   "metadata": {},
   "source": [
    "11) En los puntos 9 y 10, se diseño un código que encuentra números primos y además se lo optimizó. ¿Es posible saber en qué medida se optimizó?"
   ]
  },
  {
   "cell_type": "code",
   "execution_count": 7,
   "metadata": {},
   "outputs": [
    {
     "name": "stdout",
     "output_type": "stream",
     "text": [
      "2\n",
      "3\n",
      "5\n",
      "7\n",
      "11\n",
      "13\n",
      "17\n",
      "19\n",
      "23\n",
      "29\n",
      "Cantidad de Ciclos sin break 406\n"
     ]
    }
   ],
   "source": [
    "tope = 30\n",
    "n = 2\n",
    "primo = True\n",
    "ciclos_sin_break = 0\n",
    "while n <= tope:\n",
    "\tfor div in range(2, n):\n",
    "\t\tciclos_sin_break += 1\n",
    "\t\tresto = n%div\n",
    "\t\tif resto == 0:\n",
    "\t\t\tprimo = False\n",
    "\tif primo:\n",
    "\t\tprint(n)\n",
    "\telse:\n",
    "\t\tprimo = True\n",
    "\tn += 1\n",
    "print(f'Cantidad de Ciclos sin break {ciclos_sin_break}')"
   ]
  },
  {
   "cell_type": "code",
   "execution_count": 8,
   "metadata": {},
   "outputs": [
    {
     "name": "stdout",
     "output_type": "stream",
     "text": [
      "2\n",
      "3\n",
      "5\n",
      "7\n",
      "11\n",
      "13\n",
      "17\n",
      "19\n",
      "23\n",
      "29\n",
      "Cantidad de Ciclos con break 135\n"
     ]
    }
   ],
   "source": [
    "tope = 30\n",
    "n = 2\n",
    "primo = True\n",
    "ciclos_con_break = 0\n",
    "while n <= tope:\n",
    "\tfor div in range(2, n):\n",
    "\t\tciclos_con_break += 1\n",
    "\t\tresto = n%div\n",
    "\t\tif resto == 0:\n",
    "\t\t\tprimo = False\n",
    "\t\t\tbreak\n",
    "\tif primo:\n",
    "\t\tprint(n)\n",
    "\telse:\n",
    "\t\tprimo = True\n",
    "\tn += 1\n",
    "print(f'Cantidad de Ciclos con break {ciclos_con_break}')"
   ]
  },
  {
   "cell_type": "code",
   "execution_count": 10,
   "metadata": {},
   "outputs": [
    {
     "data": {
      "text/plain": [
       "0.33251231527093594"
      ]
     },
     "execution_count": 10,
     "metadata": {},
     "output_type": "execute_result"
    }
   ],
   "source": [
    "ciclos_con_break/ciclos_sin_break"
   ]
  },
  {
   "attachments": {},
   "cell_type": "markdown",
   "metadata": {},
   "source": [
    "12) Si la cantidad de números que se evalúa es mayor a treinta, esa optimización crece?"
   ]
  },
  {
   "cell_type": "code",
   "execution_count": 13,
   "metadata": {},
   "outputs": [
    {
     "name": "stdout",
     "output_type": "stream",
     "text": [
      "2\n",
      "3\n",
      "5\n",
      "7\n",
      "11\n",
      "13\n",
      "17\n",
      "19\n",
      "23\n",
      "29\n",
      "31\n",
      "37\n",
      "41\n",
      "43\n",
      "47\n",
      "53\n",
      "59\n",
      "61\n",
      "67\n",
      "71\n",
      "73\n",
      "79\n",
      "83\n",
      "89\n",
      "97\n",
      "Cantidad de Ciclos sin break 4851\n"
     ]
    }
   ],
   "source": [
    "tope = 100\n",
    "n = 2\n",
    "primo = True\n",
    "ciclos_sin_break = 0\n",
    "while n <= tope:\n",
    "\tfor div in range(2, n):\n",
    "\t\tciclos_sin_break += 1\n",
    "\t\tresto = n%div\n",
    "\t\tif resto == 0:\n",
    "\t\t\tprimo = False\n",
    "\tif primo:\n",
    "\t\tprint(n)\n",
    "\telse:\n",
    "\t\tprimo = True\n",
    "\tn += 1\n",
    "print(f'Cantidad de Ciclos sin break {ciclos_sin_break}')"
   ]
  },
  {
   "cell_type": "code",
   "execution_count": 15,
   "metadata": {},
   "outputs": [
    {
     "name": "stdout",
     "output_type": "stream",
     "text": [
      "2\n",
      "3\n",
      "5\n",
      "7\n",
      "11\n",
      "13\n",
      "17\n",
      "19\n",
      "23\n",
      "29\n",
      "31\n",
      "37\n",
      "41\n",
      "43\n",
      "47\n",
      "53\n",
      "59\n",
      "61\n",
      "67\n",
      "71\n",
      "73\n",
      "79\n",
      "83\n",
      "89\n",
      "97\n",
      "Cantidad de Ciclos con break 1133\n"
     ]
    }
   ],
   "source": [
    "tope = 100\n",
    "n = 2\n",
    "primo = True\n",
    "ciclos_con_break = 0\n",
    "while n <= tope:\n",
    "\tfor div in range(2, n):\n",
    "\t\tciclos_con_break += 1\n",
    "\t\tresto = n%div\n",
    "\t\tif resto == 0:\n",
    "\t\t\tprimo = False\n",
    "\t\t\tbreak\n",
    "\tif primo:\n",
    "\t\tprint(n)\n",
    "\telse:\n",
    "\t\tprimo = True\n",
    "\tn += 1\n",
    "print(f'Cantidad de Ciclos con break {ciclos_con_break}')"
   ]
  },
  {
   "cell_type": "code",
   "execution_count": 16,
   "metadata": {},
   "outputs": [
    {
     "data": {
      "text/plain": [
       "0.23356009070294784"
      ]
     },
     "execution_count": 16,
     "metadata": {},
     "output_type": "execute_result"
    }
   ],
   "source": [
    "ciclos_con_break/ciclos_sin_break"
   ]
  },
  {
   "attachments": {},
   "cell_type": "markdown",
   "metadata": {},
   "source": [
    "13) Aplicando continue, armar un ciclo while que solo imprima los valores divisibles por 12, dentro del rango de números de 100 a 300"
   ]
  },
  {
   "cell_type": "code",
   "execution_count": 20,
   "metadata": {},
   "outputs": [
    {
     "name": "stdout",
     "output_type": "stream",
     "text": [
      "108 es divisible por 12\n",
      "120 es divisible por 12\n",
      "132 es divisible por 12\n",
      "144 es divisible por 12\n",
      "156 es divisible por 12\n",
      "168 es divisible por 12\n",
      "180 es divisible por 12\n",
      "192 es divisible por 12\n",
      "204 es divisible por 12\n",
      "216 es divisible por 12\n",
      "228 es divisible por 12\n",
      "240 es divisible por 12\n",
      "252 es divisible por 12\n",
      "264 es divisible por 12\n",
      "276 es divisible por 12\n",
      "288 es divisible por 12\n",
      "300 es divisible por 12\n"
     ]
    }
   ],
   "source": [
    "n = 99\n",
    "while n <= 300:\n",
    "\tn += 1\n",
    "\tresto = n%12\n",
    "\tif resto != 0:\n",
    "\t\tcontinue\n",
    "\tprint(f'{n} es divisible por 12')"
   ]
  },
  {
   "attachments": {},
   "cell_type": "markdown",
   "metadata": {},
   "source": [
    "14) Utilizar la función **input()** que permite hacer ingresos por teclado, para encontrar números primos y dar la opción al usario de buscar el siguiente"
   ]
  },
  {
   "cell_type": "code",
   "execution_count": 23,
   "metadata": {},
   "outputs": [
    {
     "name": "stdout",
     "output_type": "stream",
     "text": [
      "3\n",
      "<class 'int'>\n"
     ]
    }
   ],
   "source": [
    "a = int(input('Ingrese un numero mayor a 0:'))\n",
    "print(a)\n",
    "print(type(a))"
   ]
  },
  {
   "cell_type": "code",
   "execution_count": 26,
   "metadata": {},
   "outputs": [
    {
     "name": "stdout",
     "output_type": "stream",
     "text": [
      "El numero 2 es primo\n",
      "Desea encontrar el siguiente numero primo\n",
      "El numero 3 es primo\n",
      "Desea encontrar el siguiente numero primo\n",
      "se finaliza la busqueda\n"
     ]
    }
   ],
   "source": [
    "n = 2\n",
    "primo = True\n",
    "buscar_primo = True\n",
    "while buscar_primo:\n",
    "\tfor div in range(2, n):\n",
    "\t\tresto = n%div\n",
    "\t\tif resto == 0:\n",
    "\t\t\tprimo = False\n",
    "\t\t\tbreak\n",
    "\tif primo:\n",
    "\t\tprint(f'El numero {n} es primo')\n",
    "\t\tprint('Desea encontrar el siguiente numero primo')\n",
    "\t\tcontinuar = input(\"Ingrese 'si' o 'no':\")\n",
    "\t\tif continuar == 'no':\n",
    "\t\t\tprint('se finaliza la busqueda')\n",
    "\t\t\tbuscar_primo = False\n",
    "\t\t\tbreak\n",
    "\telse:\n",
    "\t\tprimo = True\n",
    "\tn += 1"
   ]
  },
  {
   "attachments": {},
   "cell_type": "markdown",
   "metadata": {},
   "source": [
    "15) Crear un ciclo while que encuentre dentro del rango de 100 a 300 el primer número divisible por 3 y además múltiplo de 6"
   ]
  },
  {
   "cell_type": "code",
   "execution_count": 27,
   "metadata": {},
   "outputs": [
    {
     "name": "stdout",
     "output_type": "stream",
     "text": [
      "El numero es: 102\n"
     ]
    }
   ],
   "source": [
    "n = 100\n",
    "while(n<=300):\n",
    "\tresto = n%6\n",
    "\tif resto == 0:\n",
    "\t\tprint(f'El numero es: {n}')\n",
    "\t\tbreak\n",
    "\tn +=1"
   ]
  }
 ],
 "metadata": {
  "interpreter": {
   "hash": "c85384e4cb51c8b72350f3a8712cc8351fdc3955e32a27f9b60c6242ab125f01"
  },
  "kernelspec": {
   "display_name": "Python 3 (ipykernel)",
   "language": "python",
   "name": "python3"
  },
  "language_info": {
   "codemirror_mode": {
    "name": "ipython",
    "version": 3
   },
   "file_extension": ".py",
   "mimetype": "text/x-python",
   "name": "python",
   "nbconvert_exporter": "python",
   "pygments_lexer": "ipython3",
   "version": "3.10.7"
  }
 },
 "nbformat": 4,
 "nbformat_minor": 4
}
