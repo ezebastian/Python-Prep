{
 "cells": [
  {
   "attachments": {},
   "cell_type": "markdown",
   "metadata": {},
   "source": [
    "## Funciones"
   ]
  },
  {
   "attachments": {},
   "cell_type": "markdown",
   "metadata": {},
   "source": [
    "1) Crear una función que reciba un número como parámetro y devuelva True si es primo y False si no lo es"
   ]
  },
  {
   "cell_type": "code",
   "execution_count": 16,
   "metadata": {},
   "outputs": [],
   "source": [
    "def verifica_primo(numero):\n",
    "    es_primo = True\n",
    "\n",
    "    if numero <= 1:\n",
    "        return None\n",
    "\n",
    "    if numero == 2:\n",
    "        return True\n",
    "\n",
    "    for i in range(2, numero):\n",
    "        if numero%i == 0:\n",
    "            es_primo = False\n",
    "            break\n",
    "        \n",
    "    return es_primo"
   ]
  },
  {
   "cell_type": "code",
   "execution_count": 17,
   "metadata": {},
   "outputs": [
    {
     "data": {
      "text/plain": [
       "False"
      ]
     },
     "execution_count": 17,
     "metadata": {},
     "output_type": "execute_result"
    }
   ],
   "source": [
    "verifica_primo(4)"
   ]
  },
  {
   "cell_type": "code",
   "execution_count": 18,
   "metadata": {},
   "outputs": [
    {
     "data": {
      "text/plain": [
       "True"
      ]
     },
     "execution_count": 18,
     "metadata": {},
     "output_type": "execute_result"
    }
   ],
   "source": [
    "num = int(input('Ingrese un numero mayor a cero:'))\n",
    "verifica_primo(num)"
   ]
  },
  {
   "attachments": {},
   "cell_type": "markdown",
   "metadata": {},
   "source": [
    "2) Utilizando la función del punto 1, realizar otra función que reciba de parámetro una lista de números y devuelva sólo aquellos que son primos en otra lista"
   ]
  },
  {
   "cell_type": "code",
   "execution_count": 19,
   "metadata": {},
   "outputs": [],
   "source": [
    "def extrae_primos_de_lista(lista):\n",
    "\tlista_primos = []\n",
    "\tif len(lista) > 0:\n",
    "\t\tfor elemento in lista:\n",
    "\t\t\tif verifica_primo(elemento):\n",
    "\t\t\t\tlista_primos.append(elemento)\n",
    "\treturn lista_primos"
   ]
  },
  {
   "cell_type": "code",
   "execution_count": 20,
   "metadata": {},
   "outputs": [
    {
     "data": {
      "text/plain": [
       "[2, 3, 5, 7, 11, 13, 17, 19]"
      ]
     },
     "execution_count": 20,
     "metadata": {},
     "output_type": "execute_result"
    }
   ],
   "source": [
    "lis_completa = [1,2,3,4,5,6,7,8,9,10,11,12,13,14,15,16,17,18,19,20]\n",
    "primos = extrae_primos_de_lista(lis_completa)\n",
    "primos"
   ]
  },
  {
   "attachments": {},
   "cell_type": "markdown",
   "metadata": {},
   "source": [
    "3) Crear una función que al recibir una lista de números, devuelva el que más se repite y cuántas veces lo hace. Si hay más de un \"más repetido\", que devuelva cualquiera"
   ]
  },
  {
   "cell_type": "code",
   "execution_count": 22,
   "metadata": {},
   "outputs": [],
   "source": [
    "def numero_mas_repetido(lista):\n",
    "\tcontador = {}\n",
    "\tfor num in lista:\n",
    "\t\tif num in contador.keys():\n",
    "\t\t\tcontador[num] +=1\n",
    "\t\telse:\n",
    "\t\t\tcontador[num] = 1\n",
    "\n",
    "\tmaximo_repeticion = 0\n",
    "\tmas_repetido = None\n",
    "\n",
    "\tfor numero, repeticion in contador.items():\n",
    "\t\tif repeticion > maximo_repeticion:\n",
    "\t\t\tmaximo_repeticion = repeticion\n",
    "\t\t\tmas_repetido = numero\n",
    "\treturn mas_repetido, maximo_repeticion"
   ]
  },
  {
   "cell_type": "code",
   "execution_count": 23,
   "metadata": {},
   "outputs": [
    {
     "data": {
      "text/plain": [
       "(10, 3)"
      ]
     },
     "execution_count": 23,
     "metadata": {},
     "output_type": "execute_result"
    }
   ],
   "source": [
    "lis = [10,1,5,6,8,10,22,5,6,4,11,10,9,5]\n",
    "numero_mas_repetido(lis)"
   ]
  },
  {
   "attachments": {},
   "cell_type": "markdown",
   "metadata": {},
   "source": [
    "4) A la función del punto 3, agregar un parámetro más, que permita elegir si se requiere el menor o el mayor de los mas repetidos."
   ]
  },
  {
   "cell_type": "code",
   "execution_count": 24,
   "metadata": {},
   "outputs": [],
   "source": [
    "def numero_mas_repetido(lista, obtener_mayor=True):\n",
    "    contador = {}\n",
    "    for num in lista:\n",
    "        if num in contador.keys():\n",
    "            contador[num] += 1\n",
    "        else:\n",
    "            contador[num] = 1\n",
    "\n",
    "    maximo_repeticion = 0\n",
    "    mas_repetido = []\n",
    "\n",
    "    for numero, repeticion in contador.items():\n",
    "        if repeticion > maximo_repeticion:\n",
    "            maximo_repeticion = repeticion\n",
    "            mas_repetido = [numero]\n",
    "        elif repeticion == maximo_repeticion:\n",
    "            mas_repetido.append(numero)\n",
    "\n",
    "    if obtener_mayor:\n",
    "        resultado = max(mas_repetido)\n",
    "    else:\n",
    "        resultado = min(mas_repetido)\n",
    "\n",
    "    return resultado, maximo_repeticion"
   ]
  },
  {
   "attachments": {},
   "cell_type": "markdown",
   "metadata": {},
   "source": [
    "5) Crear una función que convierta entre grados Celsius, Farenheit y Kelvin<br>\n",
    "Fórmula 1\t: (°C × 9/5) + 32 = °F<br>\n",
    "Fórmula 2\t: °C + 273.15 = °K<br>\n",
    "Debe recibir 3 parámetros: el valor, la medida de orígen y la medida de destino\n"
   ]
  },
  {
   "cell_type": "code",
   "execution_count": 25,
   "metadata": {},
   "outputs": [],
   "source": [
    "def convertir_temperatura(valor, medida_origen, medida_destino):\n",
    "    if medida_origen == 'C' and medida_destino == 'F':\n",
    "        resultado = (valor * 9/5) + 32\n",
    "    elif medida_origen == 'C' and medida_destino == 'K':\n",
    "        resultado = valor + 273.15\n",
    "    elif medida_origen == 'F' and medida_destino == 'C':\n",
    "        resultado = (valor - 32) * 5/9\n",
    "    elif medida_origen == 'F' and medida_destino == 'K':\n",
    "        resultado = (valor + 459.67) * 5/9\n",
    "    elif medida_origen == 'K' and medida_destino == 'C':\n",
    "        resultado = valor - 273.15\n",
    "    elif medida_origen == 'K' and medida_destino == 'F':\n",
    "        resultado = (valor * 9/5) - 459.67\n",
    "    else:\n",
    "        resultado = valor  # Si las medidas son las mismas, el resultado es el valor original\n",
    "    return resultado\n"
   ]
  },
  {
   "attachments": {},
   "cell_type": "markdown",
   "metadata": {},
   "source": [
    "6) Iterando una lista con los tres valores posibles de temperatura que recibe la función del punto 5, hacer un print para cada combinación de los mismos:"
   ]
  },
  {
   "cell_type": "code",
   "execution_count": 26,
   "metadata": {},
   "outputs": [
    {
     "name": "stdout",
     "output_type": "stream",
     "text": [
      "25 C equivale a 77.0 F\n",
      "25 C equivale a 298.15 K\n",
      "25 F equivale a -3.888888888888889 C\n",
      "25 F equivale a 269.2611111111111 K\n",
      "25 K equivale a -248.14999999999998 C\n",
      "25 K equivale a -414.67 F\n",
      "100 C equivale a 212.0 F\n",
      "100 C equivale a 373.15 K\n",
      "100 F equivale a 37.77777777777778 C\n",
      "100 F equivale a 310.9277777777778 K\n",
      "100 K equivale a -173.14999999999998 C\n",
      "100 K equivale a -279.67 F\n",
      "0 C equivale a 32.0 F\n",
      "0 C equivale a 273.15 K\n",
      "0 F equivale a -17.77777777777778 C\n",
      "0 F equivale a 255.3722222222222 K\n",
      "0 K equivale a -273.15 C\n",
      "0 K equivale a -459.67 F\n"
     ]
    }
   ],
   "source": [
    "valores = [25, 100, 0]  # Lista de valores de temperatura a convertir\n",
    "medidas = ['C', 'F', 'K']  # Lista de medidas posibles: Celsius, Fahrenheit, Kelvin\n",
    "\n",
    "for valor in valores:\n",
    "    for medida_origen in medidas:\n",
    "        for medida_destino in medidas:\n",
    "            if medida_origen != medida_destino:  # Evitar conversiones redundantes\n",
    "                resultado = convertir_temperatura(valor, medida_origen, medida_destino)\n",
    "                print(f\"{valor} {medida_origen} equivale a {resultado} {medida_destino}\")\n"
   ]
  },
  {
   "attachments": {},
   "cell_type": "markdown",
   "metadata": {},
   "source": [
    "7) Armar una función que devuelva el factorial de un número. Tener en cuenta que el usuario puede equivocarse y enviar de parámetro un número no entero o negativo"
   ]
  },
  {
   "cell_type": "code",
   "execution_count": 27,
   "metadata": {},
   "outputs": [],
   "source": [
    "def factorial(numero):\n",
    "    if not isinstance(numero, int) or numero < 0:\n",
    "        return None  # Devuelve None si el número no es entero o es negativo\n",
    "    if numero == 0 or numero == 1:\n",
    "        return 1\n",
    "    else:\n",
    "        resultado = 1\n",
    "        for i in range(2, numero + 1):\n",
    "            resultado *= i\n",
    "        return resultado\n"
   ]
  }
 ],
 "metadata": {
  "interpreter": {
   "hash": "c85384e4cb51c8b72350f3a8712cc8351fdc3955e32a27f9b60c6242ab125f01"
  },
  "kernelspec": {
   "display_name": "Python 3 (ipykernel)",
   "language": "python",
   "name": "python3"
  },
  "language_info": {
   "codemirror_mode": {
    "name": "ipython",
    "version": 3
   },
   "file_extension": ".py",
   "mimetype": "text/x-python",
   "name": "python",
   "nbconvert_exporter": "python",
   "pygments_lexer": "ipython3",
   "version": "3.10.7"
  }
 },
 "nbformat": 4,
 "nbformat_minor": 4
}
